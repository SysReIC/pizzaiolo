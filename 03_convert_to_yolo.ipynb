{
 "cells": [
  {
   "cell_type": "code",
   "execution_count": 1,
   "metadata": {
    "collapsed": false
   },
   "outputs": [],
   "source": [
    "%load_ext autoreload\n",
    "%autoreload 2"
   ]
  },
  {
   "cell_type": "code",
   "execution_count": 2,
   "metadata": {
    "collapsed": false
   },
   "outputs": [
    {
     "name": "stderr",
     "output_type": "stream",
     "text": [
      "\n",
      "Warning: SQLite3 version 3.40.0 and 3.41.2 have huge performance regressions; please install version 3.41.1 or 3.42!\n",
      "\n"
     ]
    }
   ],
   "source": [
    "from libs.pizzaiolo import Pizzaiolo\n",
    "from libs.pizzas_to_yolo import PizzasToYolo"
   ]
  },
  {
   "cell_type": "markdown",
   "metadata": {},
   "source": [
    "# Dataset"
   ]
  },
  {
   "cell_type": "code",
   "execution_count": 3,
   "metadata": {},
   "outputs": [],
   "source": [
    "pizzaiolo_dataset_dir = \"DEMO_SAMPLE_pizzaiolo_dataset\""
   ]
  },
  {
   "cell_type": "markdown",
   "metadata": {},
   "source": [
    "# Convert"
   ]
  },
  {
   "cell_type": "code",
   "execution_count": 4,
   "metadata": {},
   "outputs": [
    {
     "name": "stdout",
     "output_type": "stream",
     "text": [
      "Found : DEMO_SAMPLE_pizzaiolo_dataset/csv/pizzaiolo_dataset.csv -> converting.\n",
      "Found : DEMO_SAMPLE_pizzaiolo_dataset/csv/pizzaiolo_train.csv -> converting.\n",
      "Found : DEMO_SAMPLE_pizzaiolo_dataset/csv/pizzaiolo_valid.csv -> converting.\n",
      "Found : DEMO_SAMPLE_pizzaiolo_dataset/csv/pizzaiolo_test.csv -> converting.\n"
     ]
    }
   ],
   "source": [
    "yolo_dataset_dir = pizzaiolo_dataset_dir + '_YOLO'\n",
    "PizzasToYolo.convert(pizzaiolo_dataset_dir, yolo_dataset_dir)"
   ]
  },
  {
   "cell_type": "code",
   "execution_count": null,
   "metadata": {},
   "outputs": [],
   "source": []
  }
 ],
 "metadata": {
  "kernelspec": {
   "display_name": "Python 3",
   "language": "python",
   "name": "python3"
  },
  "language_info": {
   "codemirror_mode": {
    "name": "ipython",
    "version": 3
   },
   "file_extension": ".py",
   "mimetype": "text/x-python",
   "name": "python",
   "nbconvert_exporter": "python",
   "pygments_lexer": "ipython3",
   "version": "3.10.8"
  }
 },
 "nbformat": 4,
 "nbformat_minor": 0
}
